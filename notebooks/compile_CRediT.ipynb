{
 "cells": [
  {
   "cell_type": "code",
   "execution_count": 5,
   "metadata": {},
   "outputs": [
    {
     "name": "stdout",
     "output_type": "stream",
     "text": [
      "parse_meta : Done.\n",
      "\n",
      "Author B: no ORCID...\n",
      "Author B: no contributions...\n",
      "parse_contrib : Done.\n",
      "\n",
      "compile_pdf : Done. \n",
      "\n"
     ]
    }
   ],
   "source": [
    "from credit.credit import parse_contrib, parse_meta, compile_pdf\n",
    "\n",
    "# Meta data \n",
    "meta_data = {\n",
    "    \"title\" : ' your title here ',\n",
    "#     \"url\"   : ' your URL here ',\n",
    "#     \"doi\"   : ' your DOI here '\n",
    "}\n",
    "parse_meta(meta_data)\n",
    "\n",
    "# Input CSV file \n",
    "data_file = '../files/contrib.csv'\n",
    "parse_contrib(data_file)\n",
    "\n",
    "# Compile the CRediT report\n",
    "compile_pdf()"
   ]
  },
  {
   "cell_type": "code",
   "execution_count": 6,
   "metadata": {},
   "outputs": [],
   "source": [
    "# unused atm\n",
    "# ultimately, it could be useful to include the description of the roles on hover\n",
    "# data_file = '../files/taxonomy.csv'\n",
    "# taxonomy = pd.read_csv(data_file)"
   ]
  },
  {
   "cell_type": "code",
   "execution_count": null,
   "metadata": {},
   "outputs": [],
   "source": []
  }
 ],
 "metadata": {
  "kernelspec": {
   "display_name": "Python 3",
   "language": "python",
   "name": "python3"
  },
  "language_info": {
   "codemirror_mode": {
    "name": "ipython",
    "version": 3
   },
   "file_extension": ".py",
   "mimetype": "text/x-python",
   "name": "python",
   "nbconvert_exporter": "python",
   "pygments_lexer": "ipython3",
   "version": "3.7.4"
  }
 },
 "nbformat": 4,
 "nbformat_minor": 4
}
